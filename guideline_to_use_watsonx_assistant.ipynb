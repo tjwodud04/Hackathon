{
 "cells": [
  {
   "cell_type": "markdown",
   "source": [
    "### IBM Cloud 계정 생성 및 서비스 인스턴스 설정"
   ],
   "metadata": {
    "collapsed": false
   }
  },
  {
   "cell_type": "markdown",
   "source": [
    "IBM Cloud에 가입하고 watsonx Assistant 서비스 활성화하기\n",
    "서비스 인스턴스를 생성한 후, API 키와 서비스 URL 확보하기"
   ],
   "metadata": {
    "collapsed": false
   }
  },
  {
   "cell_type": "markdown",
   "source": [
    "### 파이썬 클라이언트 설치"
   ],
   "metadata": {
    "collapsed": false
   }
  },
  {
   "cell_type": "markdown",
   "source": [
    "파이썬 환경에서 ibm-watson 패키지를 설치\n",
    "```\n",
    "pip install ibm-watson\n",
    "```"
   ],
   "metadata": {
    "collapsed": false
   }
  },
  {
   "cell_type": "markdown",
   "source": [
    "### 클라이언트 구성"
   ],
   "metadata": {
    "collapsed": false
   }
  },
  {
   "cell_type": "markdown",
   "source": [
    "API 키와 서비스 URL을 사용하여 watsonx Assistant 클라이언트를 설정"
   ],
   "metadata": {
    "collapsed": false
   }
  },
  {
   "cell_type": "code",
   "execution_count": 1,
   "outputs": [
    {
     "ename": "ValueError",
     "evalue": "numpy.dtype size changed, may indicate binary incompatibility. Expected 96 from C header, got 88 from PyObject",
     "output_type": "error",
     "traceback": [
      "\u001B[1;31m---------------------------------------------------------------------------\u001B[0m",
      "\u001B[1;31mValueError\u001B[0m                                Traceback (most recent call last)",
      "Cell \u001B[1;32mIn[1], line 1\u001B[0m\n\u001B[1;32m----> 1\u001B[0m \u001B[38;5;28;01mfrom\u001B[39;00m \u001B[38;5;21;01mibm_watsonx_ai\u001B[39;00m \u001B[38;5;28;01mimport\u001B[39;00m APIClient\n\u001B[0;32m      2\u001B[0m \u001B[38;5;28;01mfrom\u001B[39;00m \u001B[38;5;21;01mibm_watsonx_ai\u001B[39;00m \u001B[38;5;28;01mimport\u001B[39;00m Credentials\n\u001B[0;32m      4\u001B[0m credentials \u001B[38;5;241m=\u001B[39m Credentials(\n\u001B[0;32m      5\u001B[0m                    url \u001B[38;5;241m=\u001B[39m \u001B[38;5;124m\"\u001B[39m\u001B[38;5;124mhttps://api.au-syd.assistant.watson.cloud.ibm.com\u001B[39m\u001B[38;5;124m\"\u001B[39m,\n\u001B[0;32m      6\u001B[0m                    api_key \u001B[38;5;241m=\u001B[39m \u001B[38;5;124m\"\u001B[39m\u001B[38;5;124mvF9o7toopJIUUDKdLWubemN15WIfg2pDRucScphlNoiL\u001B[39m\u001B[38;5;124m\"\u001B[39m\n\u001B[0;32m      7\u001B[0m                   )\n",
      "File \u001B[1;32m~\\Downloads\\IBM_Hackathon\\venv\\lib\\site-packages\\ibm_watsonx_ai\\__init__.py:16\u001B[0m\n\u001B[0;32m     13\u001B[0m     \u001B[38;5;28;01mfrom\u001B[39;00m \u001B[38;5;21;01mimportlib_metadata\u001B[39;00m \u001B[38;5;28;01mimport\u001B[39;00m version \u001B[38;5;28;01mas\u001B[39;00m imp_lib_ver\n\u001B[0;32m     14\u001B[0m     version \u001B[38;5;241m=\u001B[39m imp_lib_ver(pkg_name)\n\u001B[1;32m---> 16\u001B[0m \u001B[38;5;28;01mfrom\u001B[39;00m \u001B[38;5;21;01mibm_watsonx_ai\u001B[39;00m\u001B[38;5;21;01m.\u001B[39;00m\u001B[38;5;21;01mclient\u001B[39;00m \u001B[38;5;28;01mimport\u001B[39;00m APIClient\n\u001B[0;32m     17\u001B[0m APIClient\u001B[38;5;241m.\u001B[39mversion \u001B[38;5;241m=\u001B[39m version\n\u001B[0;32m     19\u001B[0m \u001B[38;5;28;01mfrom\u001B[39;00m \u001B[38;5;21;01m.\u001B[39;00m\u001B[38;5;21;01mutils\u001B[39;00m \u001B[38;5;28;01mimport\u001B[39;00m is_python_2\n",
      "File \u001B[1;32m~\\Downloads\\IBM_Hackathon\\venv\\lib\\site-packages\\ibm_watsonx_ai\\client.py:6\u001B[0m\n\u001B[0;32m      1\u001B[0m \u001B[38;5;66;03m#  -----------------------------------------------------------------------------------------\u001B[39;00m\n\u001B[0;32m      2\u001B[0m \u001B[38;5;66;03m#  (C) Copyright IBM Corp. 2023.\u001B[39;00m\n\u001B[0;32m      3\u001B[0m \u001B[38;5;66;03m#  https://opensource.org/licenses/BSD-3-Clause\u001B[39;00m\n\u001B[0;32m      4\u001B[0m \u001B[38;5;66;03m#  -----------------------------------------------------------------------------------------\u001B[39;00m\n\u001B[1;32m----> 6\u001B[0m \u001B[38;5;28;01mfrom\u001B[39;00m \u001B[38;5;21;01mibm_watsonx_ai\u001B[39;00m\u001B[38;5;21;01m.\u001B[39;00m\u001B[38;5;21;01mrepository\u001B[39;00m \u001B[38;5;28;01mimport\u001B[39;00m Repository\n\u001B[0;32m      7\u001B[0m \u001B[38;5;28;01mfrom\u001B[39;00m \u001B[38;5;21;01mibm_watsonx_ai\u001B[39;00m\u001B[38;5;21;01m.\u001B[39;00m\u001B[38;5;21;01mmodel_definition\u001B[39;00m \u001B[38;5;28;01mimport\u001B[39;00m ModelDefinition\n\u001B[0;32m      8\u001B[0m \u001B[38;5;28;01mfrom\u001B[39;00m \u001B[38;5;21;01mibm_watsonx_ai\u001B[39;00m\u001B[38;5;21;01m.\u001B[39;00m\u001B[38;5;21;01mdeployments\u001B[39;00m \u001B[38;5;28;01mimport\u001B[39;00m Deployments\n",
      "File \u001B[1;32m~\\Downloads\\IBM_Hackathon\\venv\\lib\\site-packages\\ibm_watsonx_ai\\repository.py:6\u001B[0m\n\u001B[0;32m      1\u001B[0m \u001B[38;5;66;03m#  -----------------------------------------------------------------------------------------\u001B[39;00m\n\u001B[0;32m      2\u001B[0m \u001B[38;5;66;03m#  (C) Copyright IBM Corp. 2023.\u001B[39;00m\n\u001B[0;32m      3\u001B[0m \u001B[38;5;66;03m#  https://opensource.org/licenses/BSD-3-Clause\u001B[39;00m\n\u001B[0;32m      4\u001B[0m \u001B[38;5;66;03m#  -----------------------------------------------------------------------------------------\u001B[39;00m\n\u001B[1;32m----> 6\u001B[0m \u001B[38;5;28;01mfrom\u001B[39;00m \u001B[38;5;21;01mibm_watson_machine_learning\u001B[39;00m\u001B[38;5;21;01m.\u001B[39;00m\u001B[38;5;21;01mrepository\u001B[39;00m \u001B[38;5;28;01mimport\u001B[39;00m Repository\n\u001B[0;32m      8\u001B[0m \u001B[38;5;28;01mfrom\u001B[39;00m \u001B[38;5;21;01mibm_watsonx_ai\u001B[39;00m\u001B[38;5;21;01m.\u001B[39;00m\u001B[38;5;21;01mutils\u001B[39;00m\u001B[38;5;21;01m.\u001B[39;00m\u001B[38;5;21;01mchange_methods_docstring\u001B[39;00m \u001B[38;5;28;01mimport\u001B[39;00m change_docstrings\n\u001B[0;32m     10\u001B[0m \u001B[38;5;129m@change_docstrings\u001B[39m\n\u001B[0;32m     11\u001B[0m \u001B[38;5;28;01mclass\u001B[39;00m \u001B[38;5;21;01mRepository\u001B[39;00m(Repository):\n",
      "File \u001B[1;32m~\\Downloads\\IBM_Hackathon\\venv\\lib\\site-packages\\ibm_watson_machine_learning\\__init__.py:16\u001B[0m\n\u001B[0;32m     13\u001B[0m     \u001B[38;5;28;01mfrom\u001B[39;00m \u001B[38;5;21;01mimportlib_metadata\u001B[39;00m \u001B[38;5;28;01mimport\u001B[39;00m version \u001B[38;5;28;01mas\u001B[39;00m imp_lib_ver\n\u001B[0;32m     14\u001B[0m     version \u001B[38;5;241m=\u001B[39m imp_lib_ver(pkg_name)\n\u001B[1;32m---> 16\u001B[0m \u001B[38;5;28;01mfrom\u001B[39;00m \u001B[38;5;21;01mibm_watson_machine_learning\u001B[39;00m\u001B[38;5;21;01m.\u001B[39;00m\u001B[38;5;21;01mclient\u001B[39;00m \u001B[38;5;28;01mimport\u001B[39;00m APIClient\n\u001B[0;32m     17\u001B[0m APIClient\u001B[38;5;241m.\u001B[39mversion \u001B[38;5;241m=\u001B[39m version\n\u001B[0;32m     19\u001B[0m \u001B[38;5;28;01mfrom\u001B[39;00m \u001B[38;5;21;01m.\u001B[39;00m\u001B[38;5;21;01mutils\u001B[39;00m \u001B[38;5;28;01mimport\u001B[39;00m is_python_2\n",
      "File \u001B[1;32m~\\Downloads\\IBM_Hackathon\\venv\\lib\\site-packages\\ibm_watson_machine_learning\\client.py:8\u001B[0m\n\u001B[0;32m      6\u001B[0m \u001B[38;5;28;01mimport\u001B[39;00m \u001B[38;5;21;01mlogging\u001B[39;00m\n\u001B[0;32m      7\u001B[0m \u001B[38;5;28;01mimport\u001B[39;00m \u001B[38;5;21;01mibm_watson_machine_learning\u001B[39;00m\u001B[38;5;21;01m.\u001B[39;00m\u001B[38;5;21;01mutils\u001B[39;00m\n\u001B[1;32m----> 8\u001B[0m \u001B[38;5;28;01mfrom\u001B[39;00m \u001B[38;5;21;01mibm_watson_machine_learning\u001B[39;00m\u001B[38;5;21;01m.\u001B[39;00m\u001B[38;5;21;01mhelpers\u001B[39;00m\u001B[38;5;21;01m.\u001B[39;00m\u001B[38;5;21;01mconnections\u001B[39;00m\u001B[38;5;21;01m.\u001B[39;00m\u001B[38;5;21;01mbase_data_connection\u001B[39;00m \u001B[38;5;28;01mimport\u001B[39;00m BaseDataConnection\n\u001B[0;32m      9\u001B[0m \u001B[38;5;28;01mfrom\u001B[39;00m \u001B[38;5;21;01mibm_watson_machine_learning\u001B[39;00m\u001B[38;5;21;01m.\u001B[39;00m\u001B[38;5;21;01mmessages\u001B[39;00m\u001B[38;5;21;01m.\u001B[39;00m\u001B[38;5;21;01mmessages\u001B[39;00m \u001B[38;5;28;01mimport\u001B[39;00m Messages\n\u001B[0;32m     10\u001B[0m \u001B[38;5;28;01mfrom\u001B[39;00m \u001B[38;5;21;01mibm_watson_machine_learning\u001B[39;00m\u001B[38;5;21;01m.\u001B[39;00m\u001B[38;5;21;01mutils\u001B[39;00m \u001B[38;5;28;01mimport\u001B[39;00m version, CPDVersion\n",
      "File \u001B[1;32m~\\Downloads\\IBM_Hackathon\\venv\\lib\\site-packages\\ibm_watson_machine_learning\\helpers\\__init__.py:7\u001B[0m\n\u001B[0;32m      1\u001B[0m \u001B[38;5;66;03m#  -----------------------------------------------------------------------------------------\u001B[39;00m\n\u001B[0;32m      2\u001B[0m \u001B[38;5;66;03m#  (C) Copyright IBM Corp. 2020- 2023.\u001B[39;00m\n\u001B[0;32m      3\u001B[0m \u001B[38;5;66;03m#  https://opensource.org/licenses/BSD-3-Clause\u001B[39;00m\n\u001B[0;32m      4\u001B[0m \u001B[38;5;66;03m#  -----------------------------------------------------------------------------------------\u001B[39;00m\n\u001B[0;32m      6\u001B[0m \u001B[38;5;28;01mfrom\u001B[39;00m \u001B[38;5;21;01mibm_watson_machine_learning\u001B[39;00m\u001B[38;5;21;01m.\u001B[39;00m\u001B[38;5;21;01mhelpers\u001B[39;00m\u001B[38;5;21;01m.\u001B[39;00m\u001B[38;5;21;01mhelpers\u001B[39;00m \u001B[38;5;28;01mimport\u001B[39;00m \u001B[38;5;241m*\u001B[39m\n\u001B[1;32m----> 7\u001B[0m \u001B[38;5;28;01mfrom\u001B[39;00m \u001B[38;5;21;01mibm_watson_machine_learning\u001B[39;00m\u001B[38;5;21;01m.\u001B[39;00m\u001B[38;5;21;01mhelpers\u001B[39;00m\u001B[38;5;21;01m.\u001B[39;00m\u001B[38;5;21;01mconnections\u001B[39;00m \u001B[38;5;28;01mimport\u001B[39;00m (\n\u001B[0;32m      8\u001B[0m     DataConnection, S3Connection, S3Location, FSLocation, AssetLocation, CP4DAssetLocation, WMLSAssetLocation,\n\u001B[0;32m      9\u001B[0m     WSDAssetLocation, NFSLocation, NFSConnection, ConnectionAsset, ConnectionAssetLocation, DatabaseLocation,\n\u001B[0;32m     10\u001B[0m     ContainerLocation)\n",
      "File \u001B[1;32m~\\Downloads\\IBM_Hackathon\\venv\\lib\\site-packages\\ibm_watson_machine_learning\\helpers\\connections\\__init__.py:6\u001B[0m\n\u001B[0;32m      1\u001B[0m \u001B[38;5;66;03m#  -----------------------------------------------------------------------------------------\u001B[39;00m\n\u001B[0;32m      2\u001B[0m \u001B[38;5;66;03m#  (C) Copyright IBM Corp. 2020- 2023.\u001B[39;00m\n\u001B[0;32m      3\u001B[0m \u001B[38;5;66;03m#  https://opensource.org/licenses/BSD-3-Clause\u001B[39;00m\n\u001B[0;32m      4\u001B[0m \u001B[38;5;66;03m#  -----------------------------------------------------------------------------------------\u001B[39;00m\n\u001B[1;32m----> 6\u001B[0m \u001B[38;5;28;01mfrom\u001B[39;00m \u001B[38;5;21;01mibm_watson_machine_learning\u001B[39;00m\u001B[38;5;21;01m.\u001B[39;00m\u001B[38;5;21;01mhelpers\u001B[39;00m\u001B[38;5;21;01m.\u001B[39;00m\u001B[38;5;21;01mconnections\u001B[39;00m\u001B[38;5;21;01m.\u001B[39;00m\u001B[38;5;21;01mconnections\u001B[39;00m \u001B[38;5;28;01mimport\u001B[39;00m (\n\u001B[0;32m      7\u001B[0m     DataConnection, S3Connection, S3Location, FSLocation, AssetLocation, CP4DAssetLocation,\n\u001B[0;32m      8\u001B[0m     WMLSAssetLocation, CloudAssetLocation, WSDAssetLocation, DeploymentOutputAssetLocation,\n\u001B[0;32m      9\u001B[0m     NFSConnection, NFSLocation, ConnectionAsset, ConnectionAssetLocation, DatabaseLocation, ContainerLocation)\n",
      "File \u001B[1;32m~\\Downloads\\IBM_Hackathon\\venv\\lib\\site-packages\\ibm_watson_machine_learning\\helpers\\connections\\connections.py:36\u001B[0m\n\u001B[0;32m     34\u001B[0m \u001B[38;5;28;01mfrom\u001B[39;00m \u001B[38;5;21;01mibm_boto3\u001B[39;00m \u001B[38;5;28;01mimport\u001B[39;00m resource\n\u001B[0;32m     35\u001B[0m \u001B[38;5;28;01mfrom\u001B[39;00m \u001B[38;5;21;01mibm_botocore\u001B[39;00m\u001B[38;5;21;01m.\u001B[39;00m\u001B[38;5;21;01mclient\u001B[39;00m \u001B[38;5;28;01mimport\u001B[39;00m ClientError\n\u001B[1;32m---> 36\u001B[0m \u001B[38;5;28;01mfrom\u001B[39;00m \u001B[38;5;21;01mpandas\u001B[39;00m \u001B[38;5;28;01mimport\u001B[39;00m DataFrame\n\u001B[0;32m     37\u001B[0m \u001B[38;5;28;01mimport\u001B[39;00m \u001B[38;5;21;01mpandas\u001B[39;00m \u001B[38;5;28;01mas\u001B[39;00m \u001B[38;5;21;01mpd\u001B[39;00m\n\u001B[0;32m     38\u001B[0m \u001B[38;5;28;01mimport\u001B[39;00m \u001B[38;5;21;01mibm_watson_machine_learning\u001B[39;00m\u001B[38;5;21;01m.\u001B[39;00m\u001B[38;5;21;01m_wrappers\u001B[39;00m\u001B[38;5;21;01m.\u001B[39;00m\u001B[38;5;21;01mrequests\u001B[39;00m \u001B[38;5;28;01mas\u001B[39;00m \u001B[38;5;21;01mrequests\u001B[39;00m\n",
      "File \u001B[1;32m~\\Downloads\\IBM_Hackathon\\venv\\lib\\site-packages\\pandas\\__init__.py:22\u001B[0m\n\u001B[0;32m     19\u001B[0m \u001B[38;5;28;01mdel\u001B[39;00m _hard_dependencies, _dependency, _missing_dependencies\n\u001B[0;32m     21\u001B[0m \u001B[38;5;66;03m# numpy compat\u001B[39;00m\n\u001B[1;32m---> 22\u001B[0m \u001B[38;5;28;01mfrom\u001B[39;00m \u001B[38;5;21;01mpandas\u001B[39;00m\u001B[38;5;21;01m.\u001B[39;00m\u001B[38;5;21;01mcompat\u001B[39;00m \u001B[38;5;28;01mimport\u001B[39;00m is_numpy_dev \u001B[38;5;28;01mas\u001B[39;00m _is_numpy_dev  \u001B[38;5;66;03m# pyright: ignore # noqa:F401\u001B[39;00m\n\u001B[0;32m     24\u001B[0m \u001B[38;5;28;01mtry\u001B[39;00m:\n\u001B[0;32m     25\u001B[0m     \u001B[38;5;28;01mfrom\u001B[39;00m \u001B[38;5;21;01mpandas\u001B[39;00m\u001B[38;5;21;01m.\u001B[39;00m\u001B[38;5;21;01m_libs\u001B[39;00m \u001B[38;5;28;01mimport\u001B[39;00m hashtable \u001B[38;5;28;01mas\u001B[39;00m _hashtable, lib \u001B[38;5;28;01mas\u001B[39;00m _lib, tslib \u001B[38;5;28;01mas\u001B[39;00m _tslib\n",
      "File \u001B[1;32m~\\Downloads\\IBM_Hackathon\\venv\\lib\\site-packages\\pandas\\compat\\__init__.py:18\u001B[0m\n\u001B[0;32m     15\u001B[0m \u001B[38;5;28;01mfrom\u001B[39;00m \u001B[38;5;21;01mtyping\u001B[39;00m \u001B[38;5;28;01mimport\u001B[39;00m TYPE_CHECKING\n\u001B[0;32m     17\u001B[0m \u001B[38;5;28;01mfrom\u001B[39;00m \u001B[38;5;21;01mpandas\u001B[39;00m\u001B[38;5;21;01m.\u001B[39;00m\u001B[38;5;21;01m_typing\u001B[39;00m \u001B[38;5;28;01mimport\u001B[39;00m F\n\u001B[1;32m---> 18\u001B[0m \u001B[38;5;28;01mfrom\u001B[39;00m \u001B[38;5;21;01mpandas\u001B[39;00m\u001B[38;5;21;01m.\u001B[39;00m\u001B[38;5;21;01mcompat\u001B[39;00m\u001B[38;5;21;01m.\u001B[39;00m\u001B[38;5;21;01mnumpy\u001B[39;00m \u001B[38;5;28;01mimport\u001B[39;00m (\n\u001B[0;32m     19\u001B[0m     is_numpy_dev,\n\u001B[0;32m     20\u001B[0m     np_version_under1p21,\n\u001B[0;32m     21\u001B[0m )\n\u001B[0;32m     22\u001B[0m \u001B[38;5;28;01mfrom\u001B[39;00m \u001B[38;5;21;01mpandas\u001B[39;00m\u001B[38;5;21;01m.\u001B[39;00m\u001B[38;5;21;01mcompat\u001B[39;00m\u001B[38;5;21;01m.\u001B[39;00m\u001B[38;5;21;01mpyarrow\u001B[39;00m \u001B[38;5;28;01mimport\u001B[39;00m (\n\u001B[0;32m     23\u001B[0m     pa_version_under1p01,\n\u001B[0;32m     24\u001B[0m     pa_version_under2p0,\n\u001B[1;32m   (...)\u001B[0m\n\u001B[0;32m     31\u001B[0m     pa_version_under9p0,\n\u001B[0;32m     32\u001B[0m )\n\u001B[0;32m     34\u001B[0m \u001B[38;5;28;01mif\u001B[39;00m TYPE_CHECKING:\n",
      "File \u001B[1;32m~\\Downloads\\IBM_Hackathon\\venv\\lib\\site-packages\\pandas\\compat\\numpy\\__init__.py:4\u001B[0m\n\u001B[0;32m      1\u001B[0m \u001B[38;5;124;03m\"\"\" support numpy compatibility across versions \"\"\"\u001B[39;00m\n\u001B[0;32m      2\u001B[0m \u001B[38;5;28;01mimport\u001B[39;00m \u001B[38;5;21;01mnumpy\u001B[39;00m \u001B[38;5;28;01mas\u001B[39;00m \u001B[38;5;21;01mnp\u001B[39;00m\n\u001B[1;32m----> 4\u001B[0m \u001B[38;5;28;01mfrom\u001B[39;00m \u001B[38;5;21;01mpandas\u001B[39;00m\u001B[38;5;21;01m.\u001B[39;00m\u001B[38;5;21;01mutil\u001B[39;00m\u001B[38;5;21;01m.\u001B[39;00m\u001B[38;5;21;01mversion\u001B[39;00m \u001B[38;5;28;01mimport\u001B[39;00m Version\n\u001B[0;32m      6\u001B[0m \u001B[38;5;66;03m# numpy versioning\u001B[39;00m\n\u001B[0;32m      7\u001B[0m _np_version \u001B[38;5;241m=\u001B[39m np\u001B[38;5;241m.\u001B[39m__version__\n",
      "File \u001B[1;32m~\\Downloads\\IBM_Hackathon\\venv\\lib\\site-packages\\pandas\\util\\__init__.py:2\u001B[0m\n\u001B[0;32m      1\u001B[0m \u001B[38;5;66;03m# pyright: reportUnusedImport = false\u001B[39;00m\n\u001B[1;32m----> 2\u001B[0m \u001B[38;5;28;01mfrom\u001B[39;00m \u001B[38;5;21;01mpandas\u001B[39;00m\u001B[38;5;21;01m.\u001B[39;00m\u001B[38;5;21;01mutil\u001B[39;00m\u001B[38;5;21;01m.\u001B[39;00m\u001B[38;5;21;01m_decorators\u001B[39;00m \u001B[38;5;28;01mimport\u001B[39;00m (  \u001B[38;5;66;03m# noqa:F401\u001B[39;00m\n\u001B[0;32m      3\u001B[0m     Appender,\n\u001B[0;32m      4\u001B[0m     Substitution,\n\u001B[0;32m      5\u001B[0m     cache_readonly,\n\u001B[0;32m      6\u001B[0m )\n\u001B[0;32m      8\u001B[0m \u001B[38;5;28;01mfrom\u001B[39;00m \u001B[38;5;21;01mpandas\u001B[39;00m\u001B[38;5;21;01m.\u001B[39;00m\u001B[38;5;21;01mcore\u001B[39;00m\u001B[38;5;21;01m.\u001B[39;00m\u001B[38;5;21;01mutil\u001B[39;00m\u001B[38;5;21;01m.\u001B[39;00m\u001B[38;5;21;01mhashing\u001B[39;00m \u001B[38;5;28;01mimport\u001B[39;00m (  \u001B[38;5;66;03m# noqa:F401\u001B[39;00m\n\u001B[0;32m      9\u001B[0m     hash_array,\n\u001B[0;32m     10\u001B[0m     hash_pandas_object,\n\u001B[0;32m     11\u001B[0m )\n\u001B[0;32m     14\u001B[0m \u001B[38;5;28;01mdef\u001B[39;00m \u001B[38;5;21m__getattr__\u001B[39m(name):\n",
      "File \u001B[1;32m~\\Downloads\\IBM_Hackathon\\venv\\lib\\site-packages\\pandas\\util\\_decorators.py:14\u001B[0m\n\u001B[0;32m      6\u001B[0m \u001B[38;5;28;01mfrom\u001B[39;00m \u001B[38;5;21;01mtyping\u001B[39;00m \u001B[38;5;28;01mimport\u001B[39;00m (\n\u001B[0;32m      7\u001B[0m     Any,\n\u001B[0;32m      8\u001B[0m     Callable,\n\u001B[0;32m      9\u001B[0m     Mapping,\n\u001B[0;32m     10\u001B[0m     cast,\n\u001B[0;32m     11\u001B[0m )\n\u001B[0;32m     12\u001B[0m \u001B[38;5;28;01mimport\u001B[39;00m \u001B[38;5;21;01mwarnings\u001B[39;00m\n\u001B[1;32m---> 14\u001B[0m \u001B[38;5;28;01mfrom\u001B[39;00m \u001B[38;5;21;01mpandas\u001B[39;00m\u001B[38;5;21;01m.\u001B[39;00m\u001B[38;5;21;01m_libs\u001B[39;00m\u001B[38;5;21;01m.\u001B[39;00m\u001B[38;5;21;01mproperties\u001B[39;00m \u001B[38;5;28;01mimport\u001B[39;00m cache_readonly\n\u001B[0;32m     15\u001B[0m \u001B[38;5;28;01mfrom\u001B[39;00m \u001B[38;5;21;01mpandas\u001B[39;00m\u001B[38;5;21;01m.\u001B[39;00m\u001B[38;5;21;01m_typing\u001B[39;00m \u001B[38;5;28;01mimport\u001B[39;00m (\n\u001B[0;32m     16\u001B[0m     F,\n\u001B[0;32m     17\u001B[0m     T,\n\u001B[0;32m     18\u001B[0m )\n\u001B[0;32m     19\u001B[0m \u001B[38;5;28;01mfrom\u001B[39;00m \u001B[38;5;21;01mpandas\u001B[39;00m\u001B[38;5;21;01m.\u001B[39;00m\u001B[38;5;21;01mutil\u001B[39;00m\u001B[38;5;21;01m.\u001B[39;00m\u001B[38;5;21;01m_exceptions\u001B[39;00m \u001B[38;5;28;01mimport\u001B[39;00m find_stack_level\n",
      "File \u001B[1;32m~\\Downloads\\IBM_Hackathon\\venv\\lib\\site-packages\\pandas\\_libs\\__init__.py:13\u001B[0m\n\u001B[0;32m      1\u001B[0m __all__ \u001B[38;5;241m=\u001B[39m [\n\u001B[0;32m      2\u001B[0m     \u001B[38;5;124m\"\u001B[39m\u001B[38;5;124mNaT\u001B[39m\u001B[38;5;124m\"\u001B[39m,\n\u001B[0;32m      3\u001B[0m     \u001B[38;5;124m\"\u001B[39m\u001B[38;5;124mNaTType\u001B[39m\u001B[38;5;124m\"\u001B[39m,\n\u001B[1;32m   (...)\u001B[0m\n\u001B[0;32m      9\u001B[0m     \u001B[38;5;124m\"\u001B[39m\u001B[38;5;124mInterval\u001B[39m\u001B[38;5;124m\"\u001B[39m,\n\u001B[0;32m     10\u001B[0m ]\n\u001B[1;32m---> 13\u001B[0m \u001B[38;5;28;01mfrom\u001B[39;00m \u001B[38;5;21;01mpandas\u001B[39;00m\u001B[38;5;21;01m.\u001B[39;00m\u001B[38;5;21;01m_libs\u001B[39;00m\u001B[38;5;21;01m.\u001B[39;00m\u001B[38;5;21;01minterval\u001B[39;00m \u001B[38;5;28;01mimport\u001B[39;00m Interval\n\u001B[0;32m     14\u001B[0m \u001B[38;5;28;01mfrom\u001B[39;00m \u001B[38;5;21;01mpandas\u001B[39;00m\u001B[38;5;21;01m.\u001B[39;00m\u001B[38;5;21;01m_libs\u001B[39;00m\u001B[38;5;21;01m.\u001B[39;00m\u001B[38;5;21;01mtslibs\u001B[39;00m \u001B[38;5;28;01mimport\u001B[39;00m (\n\u001B[0;32m     15\u001B[0m     NaT,\n\u001B[0;32m     16\u001B[0m     NaTType,\n\u001B[1;32m   (...)\u001B[0m\n\u001B[0;32m     21\u001B[0m     iNaT,\n\u001B[0;32m     22\u001B[0m )\n",
      "File \u001B[1;32m~\\Downloads\\IBM_Hackathon\\venv\\lib\\site-packages\\pandas\\_libs\\interval.pyx:1\u001B[0m, in \u001B[0;36minit pandas._libs.interval\u001B[1;34m()\u001B[0m\n",
      "\u001B[1;31mValueError\u001B[0m: numpy.dtype size changed, may indicate binary incompatibility. Expected 96 from C header, got 88 from PyObject"
     ]
    }
   ],
   "source": [
    "from ibm_watsonx_ai import APIClient\n",
    "from ibm_watsonx_ai import Credentials\n",
    "\n",
    "credentials = Credentials(\n",
    "                   url = \"https://api.au-syd.assistant.watson.cloud.ibm.com\",\n",
    "                   api_key = \"vF9o7toopJIUUDKdLWubemN15WIfg2pDRucScphlNoiL\"\n",
    "                  )\n",
    "\n",
    "client = APIClient(credentials)"
   ],
   "metadata": {
    "collapsed": false,
    "ExecuteTime": {
     "end_time": "2024-11-16T10:51:57.659581Z",
     "start_time": "2024-11-16T10:51:56.342054100Z"
    }
   }
  },
  {
   "cell_type": "code",
   "execution_count": 1,
   "outputs": [],
   "source": [
    "# from ibm_watson import AssistantV2\n",
    "# from ibm_cloud_sdk_core.authenticators import IAMAuthenticator\n",
    "#\n",
    "# authenticator = IAMAuthenticator('vF9o7toopJIUUDKdLWubemN15WIfg2pDRucScphlNoiL')\n",
    "# assistant = AssistantV2(\n",
    "#     version='2024-11-16',\n",
    "#     authenticator=authenticator\n",
    "# )\n",
    "# assistant.set_service_url('https://api.au-syd.assistant.watson.cloud.ibm.com/instances/341a5c03-4346-4da8-a94a-45af80535568')"
   ],
   "metadata": {
    "collapsed": false,
    "ExecuteTime": {
     "end_time": "2024-11-16T10:47:18.977938300Z",
     "start_time": "2024-11-16T10:47:18.774261900Z"
    }
   }
  },
  {
   "cell_type": "code",
   "execution_count": 2,
   "outputs": [
    {
     "ename": "ApiException",
     "evalue": "Error: Resource not found, Status code: 404 , X-global-transaction-id: 6ec5888c-2a1f-4d43-8d43-72182ec4d1df",
     "output_type": "error",
     "traceback": [
      "\u001B[1;31m---------------------------------------------------------------------------\u001B[0m",
      "\u001B[1;31mApiException\u001B[0m                              Traceback (most recent call last)",
      "Cell \u001B[1;32mIn[2], line 2\u001B[0m\n\u001B[0;32m      1\u001B[0m \u001B[38;5;66;03m# 세션 생성\u001B[39;00m\n\u001B[1;32m----> 2\u001B[0m session_response \u001B[38;5;241m=\u001B[39m \u001B[43massistant\u001B[49m\u001B[38;5;241;43m.\u001B[39;49m\u001B[43mcreate_session\u001B[49m\u001B[43m(\u001B[49m\n\u001B[0;32m      3\u001B[0m \u001B[43m    \u001B[49m\u001B[43massistant_id\u001B[49m\u001B[38;5;241;43m=\u001B[39;49m\u001B[38;5;124;43m'\u001B[39;49m\u001B[38;5;124;43m7045626d-55e3-4418-be11-683a26dbc1e5\u001B[39;49m\u001B[38;5;124;43m'\u001B[39;49m\n\u001B[0;32m      4\u001B[0m \u001B[43m)\u001B[49m\u001B[38;5;241m.\u001B[39mget_result()\n\u001B[0;32m      5\u001B[0m session_id \u001B[38;5;241m=\u001B[39m session_response[\u001B[38;5;124m'\u001B[39m\u001B[38;5;124msession_id\u001B[39m\u001B[38;5;124m'\u001B[39m]\n",
      "File \u001B[1;32m~\\Downloads\\IBM_Hackathon\\venv\\lib\\site-packages\\ibm_watson\\assistant_v2.py:352\u001B[0m, in \u001B[0;36mAssistantV2.create_session\u001B[1;34m(self, assistant_id, analytics, **kwargs)\u001B[0m\n\u001B[0;32m    343\u001B[0m url \u001B[38;5;241m=\u001B[39m \u001B[38;5;124m'\u001B[39m\u001B[38;5;124m/v2/assistants/\u001B[39m\u001B[38;5;132;01m{assistant_id}\u001B[39;00m\u001B[38;5;124m/sessions\u001B[39m\u001B[38;5;124m'\u001B[39m\u001B[38;5;241m.\u001B[39mformat(\u001B[38;5;241m*\u001B[39m\u001B[38;5;241m*\u001B[39mpath_param_dict)\n\u001B[0;32m    344\u001B[0m request \u001B[38;5;241m=\u001B[39m \u001B[38;5;28mself\u001B[39m\u001B[38;5;241m.\u001B[39mprepare_request(\n\u001B[0;32m    345\u001B[0m     method\u001B[38;5;241m=\u001B[39m\u001B[38;5;124m'\u001B[39m\u001B[38;5;124mPOST\u001B[39m\u001B[38;5;124m'\u001B[39m,\n\u001B[0;32m    346\u001B[0m     url\u001B[38;5;241m=\u001B[39murl,\n\u001B[1;32m   (...)\u001B[0m\n\u001B[0;32m    349\u001B[0m     data\u001B[38;5;241m=\u001B[39mdata,\n\u001B[0;32m    350\u001B[0m )\n\u001B[1;32m--> 352\u001B[0m response \u001B[38;5;241m=\u001B[39m \u001B[38;5;28mself\u001B[39m\u001B[38;5;241m.\u001B[39msend(request, \u001B[38;5;241m*\u001B[39m\u001B[38;5;241m*\u001B[39mkwargs)\n\u001B[0;32m    353\u001B[0m \u001B[38;5;28;01mreturn\u001B[39;00m response\n",
      "File \u001B[1;32m~\\Downloads\\IBM_Hackathon\\venv\\lib\\site-packages\\ibm_cloud_sdk_core\\base_service.py:362\u001B[0m, in \u001B[0;36mBaseService.send\u001B[1;34m(self, request, **kwargs)\u001B[0m\n\u001B[0;32m    359\u001B[0m         \u001B[38;5;28;01mreturn\u001B[39;00m DetailedResponse(response\u001B[38;5;241m=\u001B[39mresult, headers\u001B[38;5;241m=\u001B[39mresponse\u001B[38;5;241m.\u001B[39mheaders, status_code\u001B[38;5;241m=\u001B[39mresponse\u001B[38;5;241m.\u001B[39mstatus_code)\n\u001B[0;32m    361\u001B[0m     \u001B[38;5;66;03m# Received error status code from server, raise an APIException.\u001B[39;00m\n\u001B[1;32m--> 362\u001B[0m     \u001B[38;5;28;01mraise\u001B[39;00m ApiException(response\u001B[38;5;241m.\u001B[39mstatus_code, http_response\u001B[38;5;241m=\u001B[39mresponse)\n\u001B[0;32m    363\u001B[0m \u001B[38;5;28;01mexcept\u001B[39;00m requests\u001B[38;5;241m.\u001B[39mexceptions\u001B[38;5;241m.\u001B[39mSSLError:\n\u001B[0;32m    364\u001B[0m     logger\u001B[38;5;241m.\u001B[39mexception(\u001B[38;5;28mself\u001B[39m\u001B[38;5;241m.\u001B[39mERROR_MSG_DISABLE_SSL)\n",
      "\u001B[1;31mApiException\u001B[0m: Error: Resource not found, Status code: 404 , X-global-transaction-id: 6ec5888c-2a1f-4d43-8d43-72182ec4d1df"
     ]
    }
   ],
   "source": [
    "# 세션 생성\n",
    "session_response = assistant.create_session(\n",
    "    assistant_id='7045626d-55e3-4418-be11-683a26dbc1e5'\n",
    ").get_result()\n",
    "session_id = session_response['session_id']"
   ],
   "metadata": {
    "collapsed": false,
    "ExecuteTime": {
     "end_time": "2024-11-16T10:47:21.915210Z",
     "start_time": "2024-11-16T10:47:20.360036100Z"
    }
   }
  },
  {
   "cell_type": "code",
   "execution_count": 3,
   "outputs": [
    {
     "ename": "ApiException",
     "evalue": "Error: API is not supported on plus_trial plan, Status code: 400 , X-global-transaction-id: 2264afb2-b582-4128-b105-5b95cc040efb",
     "output_type": "error",
     "traceback": [
      "\u001B[1;31m---------------------------------------------------------------------------\u001B[0m",
      "\u001B[1;31mApiException\u001B[0m                              Traceback (most recent call last)",
      "Cell \u001B[1;32mIn[3], line 1\u001B[0m\n\u001B[1;32m----> 1\u001B[0m assistants \u001B[38;5;241m=\u001B[39m \u001B[43massistant\u001B[49m\u001B[38;5;241;43m.\u001B[39;49m\u001B[43mlist_assistants\u001B[49m\u001B[43m(\u001B[49m\u001B[43m)\u001B[49m\u001B[38;5;241m.\u001B[39mget_result()\n\u001B[0;32m      2\u001B[0m \u001B[38;5;28mprint\u001B[39m(assistants)\n",
      "File \u001B[1;32m~\\Downloads\\IBM_Hackathon\\venv\\lib\\site-packages\\ibm_watson\\assistant_v2.py:209\u001B[0m, in \u001B[0;36mAssistantV2.list_assistants\u001B[1;34m(self, page_limit, include_count, sort, cursor, include_audit, **kwargs)\u001B[0m\n\u001B[0;32m    201\u001B[0m url \u001B[38;5;241m=\u001B[39m \u001B[38;5;124m'\u001B[39m\u001B[38;5;124m/v2/assistants\u001B[39m\u001B[38;5;124m'\u001B[39m\n\u001B[0;32m    202\u001B[0m request \u001B[38;5;241m=\u001B[39m \u001B[38;5;28mself\u001B[39m\u001B[38;5;241m.\u001B[39mprepare_request(\n\u001B[0;32m    203\u001B[0m     method\u001B[38;5;241m=\u001B[39m\u001B[38;5;124m'\u001B[39m\u001B[38;5;124mGET\u001B[39m\u001B[38;5;124m'\u001B[39m,\n\u001B[0;32m    204\u001B[0m     url\u001B[38;5;241m=\u001B[39murl,\n\u001B[0;32m    205\u001B[0m     headers\u001B[38;5;241m=\u001B[39mheaders,\n\u001B[0;32m    206\u001B[0m     params\u001B[38;5;241m=\u001B[39mparams,\n\u001B[0;32m    207\u001B[0m )\n\u001B[1;32m--> 209\u001B[0m response \u001B[38;5;241m=\u001B[39m \u001B[38;5;28mself\u001B[39m\u001B[38;5;241m.\u001B[39msend(request, \u001B[38;5;241m*\u001B[39m\u001B[38;5;241m*\u001B[39mkwargs)\n\u001B[0;32m    210\u001B[0m \u001B[38;5;28;01mreturn\u001B[39;00m response\n",
      "File \u001B[1;32m~\\Downloads\\IBM_Hackathon\\venv\\lib\\site-packages\\ibm_cloud_sdk_core\\base_service.py:362\u001B[0m, in \u001B[0;36mBaseService.send\u001B[1;34m(self, request, **kwargs)\u001B[0m\n\u001B[0;32m    359\u001B[0m         \u001B[38;5;28;01mreturn\u001B[39;00m DetailedResponse(response\u001B[38;5;241m=\u001B[39mresult, headers\u001B[38;5;241m=\u001B[39mresponse\u001B[38;5;241m.\u001B[39mheaders, status_code\u001B[38;5;241m=\u001B[39mresponse\u001B[38;5;241m.\u001B[39mstatus_code)\n\u001B[0;32m    361\u001B[0m     \u001B[38;5;66;03m# Received error status code from server, raise an APIException.\u001B[39;00m\n\u001B[1;32m--> 362\u001B[0m     \u001B[38;5;28;01mraise\u001B[39;00m ApiException(response\u001B[38;5;241m.\u001B[39mstatus_code, http_response\u001B[38;5;241m=\u001B[39mresponse)\n\u001B[0;32m    363\u001B[0m \u001B[38;5;28;01mexcept\u001B[39;00m requests\u001B[38;5;241m.\u001B[39mexceptions\u001B[38;5;241m.\u001B[39mSSLError:\n\u001B[0;32m    364\u001B[0m     logger\u001B[38;5;241m.\u001B[39mexception(\u001B[38;5;28mself\u001B[39m\u001B[38;5;241m.\u001B[39mERROR_MSG_DISABLE_SSL)\n",
      "\u001B[1;31mApiException\u001B[0m: Error: API is not supported on plus_trial plan, Status code: 400 , X-global-transaction-id: 2264afb2-b582-4128-b105-5b95cc040efb"
     ]
    }
   ],
   "source": [
    "assistants = assistant.list_assistants().get_result()\n",
    "print(assistants)"
   ],
   "metadata": {
    "collapsed": false,
    "ExecuteTime": {
     "end_time": "2024-11-16T10:47:37.314561600Z",
     "start_time": "2024-11-16T10:47:36.500927900Z"
    }
   }
  },
  {
   "cell_type": "markdown",
   "source": [
    "### 세션 생성 및 메시지 전송"
   ],
   "metadata": {
    "collapsed": false
   }
  },
  {
   "cell_type": "markdown",
   "source": [
    "세션을 생성하고 사용자 입력을 watsonx Assistant로 전송하여 응답 받기"
   ],
   "metadata": {
    "collapsed": false
   }
  },
  {
   "cell_type": "code",
   "execution_count": 3,
   "outputs": [
    {
     "ename": "ApiException",
     "evalue": "Error: Resource not found, Status code: 404 , X-global-transaction-id: c3571c03-f6df-4caa-b946-9c35650f5cae",
     "output_type": "error",
     "traceback": [
      "\u001B[1;31m---------------------------------------------------------------------------\u001B[0m",
      "\u001B[1;31mApiException\u001B[0m                              Traceback (most recent call last)",
      "Cell \u001B[1;32mIn[3], line 2\u001B[0m\n\u001B[0;32m      1\u001B[0m \u001B[38;5;66;03m# 세션 생성\u001B[39;00m\n\u001B[1;32m----> 2\u001B[0m session_response \u001B[38;5;241m=\u001B[39m \u001B[43massistant\u001B[49m\u001B[38;5;241;43m.\u001B[39;49m\u001B[43mcreate_session\u001B[49m\u001B[43m(\u001B[49m\n\u001B[0;32m      3\u001B[0m \u001B[43m    \u001B[49m\u001B[43massistant_id\u001B[49m\u001B[38;5;241;43m=\u001B[39;49m\u001B[38;5;124;43m'\u001B[39;49m\u001B[38;5;124;43m7045626d-55e3-4418-be11-683a26dbc1e5\u001B[39;49m\u001B[38;5;124;43m'\u001B[39;49m\n\u001B[0;32m      4\u001B[0m \u001B[43m)\u001B[49m\u001B[38;5;241m.\u001B[39mget_result()\n\u001B[0;32m      5\u001B[0m session_id \u001B[38;5;241m=\u001B[39m session_response[\u001B[38;5;124m'\u001B[39m\u001B[38;5;124msession_id\u001B[39m\u001B[38;5;124m'\u001B[39m]\n\u001B[0;32m      7\u001B[0m \u001B[38;5;66;03m# 메시지 전송\u001B[39;00m\n",
      "File \u001B[1;32m~\\Downloads\\IBM_Hackathon\\venv\\lib\\site-packages\\ibm_watson\\assistant_v2.py:352\u001B[0m, in \u001B[0;36mAssistantV2.create_session\u001B[1;34m(self, assistant_id, analytics, **kwargs)\u001B[0m\n\u001B[0;32m    343\u001B[0m url \u001B[38;5;241m=\u001B[39m \u001B[38;5;124m'\u001B[39m\u001B[38;5;124m/v2/assistants/\u001B[39m\u001B[38;5;132;01m{assistant_id}\u001B[39;00m\u001B[38;5;124m/sessions\u001B[39m\u001B[38;5;124m'\u001B[39m\u001B[38;5;241m.\u001B[39mformat(\u001B[38;5;241m*\u001B[39m\u001B[38;5;241m*\u001B[39mpath_param_dict)\n\u001B[0;32m    344\u001B[0m request \u001B[38;5;241m=\u001B[39m \u001B[38;5;28mself\u001B[39m\u001B[38;5;241m.\u001B[39mprepare_request(\n\u001B[0;32m    345\u001B[0m     method\u001B[38;5;241m=\u001B[39m\u001B[38;5;124m'\u001B[39m\u001B[38;5;124mPOST\u001B[39m\u001B[38;5;124m'\u001B[39m,\n\u001B[0;32m    346\u001B[0m     url\u001B[38;5;241m=\u001B[39murl,\n\u001B[1;32m   (...)\u001B[0m\n\u001B[0;32m    349\u001B[0m     data\u001B[38;5;241m=\u001B[39mdata,\n\u001B[0;32m    350\u001B[0m )\n\u001B[1;32m--> 352\u001B[0m response \u001B[38;5;241m=\u001B[39m \u001B[38;5;28mself\u001B[39m\u001B[38;5;241m.\u001B[39msend(request, \u001B[38;5;241m*\u001B[39m\u001B[38;5;241m*\u001B[39mkwargs)\n\u001B[0;32m    353\u001B[0m \u001B[38;5;28;01mreturn\u001B[39;00m response\n",
      "File \u001B[1;32m~\\Downloads\\IBM_Hackathon\\venv\\lib\\site-packages\\ibm_cloud_sdk_core\\base_service.py:362\u001B[0m, in \u001B[0;36mBaseService.send\u001B[1;34m(self, request, **kwargs)\u001B[0m\n\u001B[0;32m    359\u001B[0m         \u001B[38;5;28;01mreturn\u001B[39;00m DetailedResponse(response\u001B[38;5;241m=\u001B[39mresult, headers\u001B[38;5;241m=\u001B[39mresponse\u001B[38;5;241m.\u001B[39mheaders, status_code\u001B[38;5;241m=\u001B[39mresponse\u001B[38;5;241m.\u001B[39mstatus_code)\n\u001B[0;32m    361\u001B[0m     \u001B[38;5;66;03m# Received error status code from server, raise an APIException.\u001B[39;00m\n\u001B[1;32m--> 362\u001B[0m     \u001B[38;5;28;01mraise\u001B[39;00m ApiException(response\u001B[38;5;241m.\u001B[39mstatus_code, http_response\u001B[38;5;241m=\u001B[39mresponse)\n\u001B[0;32m    363\u001B[0m \u001B[38;5;28;01mexcept\u001B[39;00m requests\u001B[38;5;241m.\u001B[39mexceptions\u001B[38;5;241m.\u001B[39mSSLError:\n\u001B[0;32m    364\u001B[0m     logger\u001B[38;5;241m.\u001B[39mexception(\u001B[38;5;28mself\u001B[39m\u001B[38;5;241m.\u001B[39mERROR_MSG_DISABLE_SSL)\n",
      "\u001B[1;31mApiException\u001B[0m: Error: Resource not found, Status code: 404 , X-global-transaction-id: c3571c03-f6df-4caa-b946-9c35650f5cae"
     ]
    }
   ],
   "source": [
    "# 메시지 전송\n",
    "message_response = assistant.message(\n",
    "    assistant_id='7045626d-55e3-4418-be11-683a26dbc1e5',\n",
    "    session_id=session_id,\n",
    "    input={\n",
    "        'message_type': 'text',\n",
    "        'text': '안녕하세요!'\n",
    "    }\n",
    ").get_result()\n",
    "\n",
    "# 응답 출력\n",
    "print(message_response['output']['generic'][0]['text'])"
   ],
   "metadata": {
    "collapsed": false,
    "ExecuteTime": {
     "end_time": "2024-11-16T10:43:19.404718500Z",
     "start_time": "2024-11-16T10:43:18.346614900Z"
    }
   }
  },
  {
   "cell_type": "code",
   "execution_count": null,
   "outputs": [],
   "source": [],
   "metadata": {
    "collapsed": false
   }
  }
 ],
 "metadata": {
  "kernelspec": {
   "display_name": "Python 3",
   "language": "python",
   "name": "python3"
  },
  "language_info": {
   "codemirror_mode": {
    "name": "ipython",
    "version": 2
   },
   "file_extension": ".py",
   "mimetype": "text/x-python",
   "name": "python",
   "nbconvert_exporter": "python",
   "pygments_lexer": "ipython2",
   "version": "2.7.6"
  }
 },
 "nbformat": 4,
 "nbformat_minor": 0
}
