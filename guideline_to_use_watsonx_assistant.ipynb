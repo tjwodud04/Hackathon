{
 "cells": [
  {
   "cell_type": "markdown",
   "source": [
    "### IBM Cloud 계정 생성 및 서비스 인스턴스 설정"
   ],
   "metadata": {
    "collapsed": false
   }
  },
  {
   "cell_type": "markdown",
   "source": [
    "IBM Cloud에 가입하고 watsonx Assistant 서비스 활성화하기\n",
    "서비스 인스턴스를 생성한 후, API 키와 서비스 URL 확보하기"
   ],
   "metadata": {
    "collapsed": false
   }
  },
  {
   "cell_type": "markdown",
   "source": [
    "### 파이썬 클라이언트 설치"
   ],
   "metadata": {
    "collapsed": false
   }
  },
  {
   "cell_type": "markdown",
   "source": [
    "파이썬 환경에서 ibm-watson 패키지를 설치\n",
    "```\n",
    "pip install ibm-watson\n",
    "```"
   ],
   "metadata": {
    "collapsed": false
   }
  },
  {
   "cell_type": "markdown",
   "source": [
    "### 클라이언트 구성"
   ],
   "metadata": {
    "collapsed": false
   }
  },
  {
   "cell_type": "markdown",
   "source": [
    "API 키와 서비스 URL을 사용하여 watsonx Assistant 클라이언트를 설정"
   ],
   "metadata": {
    "collapsed": false
   }
  },
  {
   "cell_type": "code",
   "execution_count": null,
   "outputs": [],
   "source": [
    "from ibm_watson import AssistantV2\n",
    "from ibm_cloud_sdk_core.authenticators import IAMAuthenticator\n",
    "\n",
    "authenticator = IAMAuthenticator('your-api-key')\n",
    "assistant = AssistantV2(\n",
    "    version='2024-11-16',\n",
    "    authenticator=authenticator\n",
    ")\n",
    "assistant.set_service_url('your-service-url')"
   ],
   "metadata": {
    "collapsed": false
   }
  },
  {
   "cell_type": "markdown",
   "source": [
    "### 세션 생성 및 메시지 전송"
   ],
   "metadata": {
    "collapsed": false
   }
  },
  {
   "cell_type": "markdown",
   "source": [
    "세션을 생성하고 사용자 입력을 watsonx Assistant로 전송하여 응답 받기"
   ],
   "metadata": {
    "collapsed": false
   }
  },
  {
   "cell_type": "code",
   "execution_count": null,
   "outputs": [],
   "source": [
    "# 세션 생성\n",
    "session_response = assistant.create_session(\n",
    "    assistant_id='your-assistant-id'\n",
    ").get_result()\n",
    "session_id = session_response['session_id']\n",
    "\n",
    "# 메시지 전송\n",
    "message_response = assistant.message(\n",
    "    assistant_id='your-assistant-id',\n",
    "    session_id=session_id,\n",
    "    input={\n",
    "        'message_type': 'text',\n",
    "        'text': '안녕하세요!'\n",
    "    }\n",
    ").get_result()\n",
    "\n",
    "# 응답 출력\n",
    "print(message_response['output']['generic'][0]['text'])"
   ],
   "metadata": {
    "collapsed": false
   }
  }
 ],
 "metadata": {
  "kernelspec": {
   "display_name": "Python 3",
   "language": "python",
   "name": "python3"
  },
  "language_info": {
   "codemirror_mode": {
    "name": "ipython",
    "version": 2
   },
   "file_extension": ".py",
   "mimetype": "text/x-python",
   "name": "python",
   "nbconvert_exporter": "python",
   "pygments_lexer": "ipython2",
   "version": "2.7.6"
  }
 },
 "nbformat": 4,
 "nbformat_minor": 0
}
